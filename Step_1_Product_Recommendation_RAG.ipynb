{
  "nbformat": 4,
  "nbformat_minor": 0,
  "metadata": {
    "colab": {
      "provenance": [],
      "include_colab_link": true
    },
    "kernelspec": {
      "name": "python3",
      "display_name": "Python 3"
    },
    "language_info": {
      "name": "python"
    }
  },
  "cells": [
    {
      "cell_type": "markdown",
      "metadata": {
        "id": "view-in-github",
        "colab_type": "text"
      },
      "source": [
        "<a href=\"https://colab.research.google.com/github/sahidmiddaempinf/product-recommendation-rag/blob/main/Step_1_Product_Recommendation_RAG.ipynb\" target=\"_parent\"><img src=\"https://colab.research.google.com/assets/colab-badge.svg\" alt=\"Open In Colab\"/></a>"
      ]
    },
    {
      "cell_type": "markdown",
      "source": [
        "# Gemini As A Judge for RAG Evals"
      ],
      "metadata": {
        "id": "7z-PmxJzF3w5"
      }
    },
    {
      "cell_type": "markdown",
      "source": [
        "## The RAG"
      ],
      "metadata": {
        "id": "EZa7H_5XF-hb"
      }
    },
    {
      "cell_type": "markdown",
      "source": [
        "### 1. Load the datasets"
      ],
      "metadata": {
        "id": "HWjUjRwKG8XN"
      }
    },
    {
      "cell_type": "code",
      "execution_count": 16,
      "metadata": {
        "colab": {
          "base_uri": "https://localhost:8080/",
          "height": 539
        },
        "id": "FBLjwX7fCl13",
        "outputId": "14bedb55-a734-41a7-ece2-6bde8b6b8fb4"
      },
      "outputs": [
        {
          "output_type": "stream",
          "name": "stdout",
          "text": [
            "Loaded products: 30\n"
          ]
        },
        {
          "output_type": "execute_result",
          "data": {
            "text/plain": [
              "   id               title                                        description  \\\n",
              "0   1            iPhone 9        An apple mobile which is nothing like apple   \n",
              "1   2            iPhone X  SIM-Free, Model A19211 6.5-inch Super Retina H...   \n",
              "2   3  Samsung Universe 9  Samsung's new variant which goes beyond Galaxy...   \n",
              "3   4             OPPOF19    OPPO F19 is officially announced on April 2021.   \n",
              "4   5          Huawei P30  Huawei’s re-badged P30 Pro New Edition was off...   \n",
              "\n",
              "   price  discountPercentage  rating  stock    brand     category  \\\n",
              "0    549               12.96    4.69     94    Apple  smartphones   \n",
              "1    899               17.94    4.44     34    Apple  smartphones   \n",
              "2   1249               15.46    4.09     36  Samsung  smartphones   \n",
              "3    280               17.91    4.30    123     OPPO  smartphones   \n",
              "4    499               10.58    4.09     32   Huawei  smartphones   \n",
              "\n",
              "                                           thumbnail  \\\n",
              "0  https://i.dummyjson.com/data/products/1/thumbn...   \n",
              "1  https://i.dummyjson.com/data/products/2/thumbn...   \n",
              "2  https://i.dummyjson.com/data/products/3/thumbn...   \n",
              "3  https://i.dummyjson.com/data/products/4/thumbn...   \n",
              "4  https://i.dummyjson.com/data/products/5/thumbn...   \n",
              "\n",
              "                                              images  \n",
              "0  [https://i.dummyjson.com/data/products/1/1.jpg...  \n",
              "1  [https://i.dummyjson.com/data/products/2/1.jpg...  \n",
              "2    [https://i.dummyjson.com/data/products/3/1.jpg]  \n",
              "3  [https://i.dummyjson.com/data/products/4/1.jpg...  \n",
              "4  [https://i.dummyjson.com/data/products/5/1.jpg...  "
            ],
            "text/html": [
              "\n",
              "  <div id=\"df-a6d03619-5088-4fd9-8a3a-0adecb4a3cd2\" class=\"colab-df-container\">\n",
              "    <div>\n",
              "<style scoped>\n",
              "    .dataframe tbody tr th:only-of-type {\n",
              "        vertical-align: middle;\n",
              "    }\n",
              "\n",
              "    .dataframe tbody tr th {\n",
              "        vertical-align: top;\n",
              "    }\n",
              "\n",
              "    .dataframe thead th {\n",
              "        text-align: right;\n",
              "    }\n",
              "</style>\n",
              "<table border=\"1\" class=\"dataframe\">\n",
              "  <thead>\n",
              "    <tr style=\"text-align: right;\">\n",
              "      <th></th>\n",
              "      <th>id</th>\n",
              "      <th>title</th>\n",
              "      <th>description</th>\n",
              "      <th>price</th>\n",
              "      <th>discountPercentage</th>\n",
              "      <th>rating</th>\n",
              "      <th>stock</th>\n",
              "      <th>brand</th>\n",
              "      <th>category</th>\n",
              "      <th>thumbnail</th>\n",
              "      <th>images</th>\n",
              "    </tr>\n",
              "  </thead>\n",
              "  <tbody>\n",
              "    <tr>\n",
              "      <th>0</th>\n",
              "      <td>1</td>\n",
              "      <td>iPhone 9</td>\n",
              "      <td>An apple mobile which is nothing like apple</td>\n",
              "      <td>549</td>\n",
              "      <td>12.96</td>\n",
              "      <td>4.69</td>\n",
              "      <td>94</td>\n",
              "      <td>Apple</td>\n",
              "      <td>smartphones</td>\n",
              "      <td>https://i.dummyjson.com/data/products/1/thumbn...</td>\n",
              "      <td>[https://i.dummyjson.com/data/products/1/1.jpg...</td>\n",
              "    </tr>\n",
              "    <tr>\n",
              "      <th>1</th>\n",
              "      <td>2</td>\n",
              "      <td>iPhone X</td>\n",
              "      <td>SIM-Free, Model A19211 6.5-inch Super Retina H...</td>\n",
              "      <td>899</td>\n",
              "      <td>17.94</td>\n",
              "      <td>4.44</td>\n",
              "      <td>34</td>\n",
              "      <td>Apple</td>\n",
              "      <td>smartphones</td>\n",
              "      <td>https://i.dummyjson.com/data/products/2/thumbn...</td>\n",
              "      <td>[https://i.dummyjson.com/data/products/2/1.jpg...</td>\n",
              "    </tr>\n",
              "    <tr>\n",
              "      <th>2</th>\n",
              "      <td>3</td>\n",
              "      <td>Samsung Universe 9</td>\n",
              "      <td>Samsung's new variant which goes beyond Galaxy...</td>\n",
              "      <td>1249</td>\n",
              "      <td>15.46</td>\n",
              "      <td>4.09</td>\n",
              "      <td>36</td>\n",
              "      <td>Samsung</td>\n",
              "      <td>smartphones</td>\n",
              "      <td>https://i.dummyjson.com/data/products/3/thumbn...</td>\n",
              "      <td>[https://i.dummyjson.com/data/products/3/1.jpg]</td>\n",
              "    </tr>\n",
              "    <tr>\n",
              "      <th>3</th>\n",
              "      <td>4</td>\n",
              "      <td>OPPOF19</td>\n",
              "      <td>OPPO F19 is officially announced on April 2021.</td>\n",
              "      <td>280</td>\n",
              "      <td>17.91</td>\n",
              "      <td>4.30</td>\n",
              "      <td>123</td>\n",
              "      <td>OPPO</td>\n",
              "      <td>smartphones</td>\n",
              "      <td>https://i.dummyjson.com/data/products/4/thumbn...</td>\n",
              "      <td>[https://i.dummyjson.com/data/products/4/1.jpg...</td>\n",
              "    </tr>\n",
              "    <tr>\n",
              "      <th>4</th>\n",
              "      <td>5</td>\n",
              "      <td>Huawei P30</td>\n",
              "      <td>Huawei’s re-badged P30 Pro New Edition was off...</td>\n",
              "      <td>499</td>\n",
              "      <td>10.58</td>\n",
              "      <td>4.09</td>\n",
              "      <td>32</td>\n",
              "      <td>Huawei</td>\n",
              "      <td>smartphones</td>\n",
              "      <td>https://i.dummyjson.com/data/products/5/thumbn...</td>\n",
              "      <td>[https://i.dummyjson.com/data/products/5/1.jpg...</td>\n",
              "    </tr>\n",
              "  </tbody>\n",
              "</table>\n",
              "</div>\n",
              "    <div class=\"colab-df-buttons\">\n",
              "\n",
              "  <div class=\"colab-df-container\">\n",
              "    <button class=\"colab-df-convert\" onclick=\"convertToInteractive('df-a6d03619-5088-4fd9-8a3a-0adecb4a3cd2')\"\n",
              "            title=\"Convert this dataframe to an interactive table.\"\n",
              "            style=\"display:none;\">\n",
              "\n",
              "  <svg xmlns=\"http://www.w3.org/2000/svg\" height=\"24px\" viewBox=\"0 -960 960 960\">\n",
              "    <path d=\"M120-120v-720h720v720H120Zm60-500h600v-160H180v160Zm220 220h160v-160H400v160Zm0 220h160v-160H400v160ZM180-400h160v-160H180v160Zm440 0h160v-160H620v160ZM180-180h160v-160H180v160Zm440 0h160v-160H620v160Z\"/>\n",
              "  </svg>\n",
              "    </button>\n",
              "\n",
              "  <style>\n",
              "    .colab-df-container {\n",
              "      display:flex;\n",
              "      gap: 12px;\n",
              "    }\n",
              "\n",
              "    .colab-df-convert {\n",
              "      background-color: #E8F0FE;\n",
              "      border: none;\n",
              "      border-radius: 50%;\n",
              "      cursor: pointer;\n",
              "      display: none;\n",
              "      fill: #1967D2;\n",
              "      height: 32px;\n",
              "      padding: 0 0 0 0;\n",
              "      width: 32px;\n",
              "    }\n",
              "\n",
              "    .colab-df-convert:hover {\n",
              "      background-color: #E2EBFA;\n",
              "      box-shadow: 0px 1px 2px rgba(60, 64, 67, 0.3), 0px 1px 3px 1px rgba(60, 64, 67, 0.15);\n",
              "      fill: #174EA6;\n",
              "    }\n",
              "\n",
              "    .colab-df-buttons div {\n",
              "      margin-bottom: 4px;\n",
              "    }\n",
              "\n",
              "    [theme=dark] .colab-df-convert {\n",
              "      background-color: #3B4455;\n",
              "      fill: #D2E3FC;\n",
              "    }\n",
              "\n",
              "    [theme=dark] .colab-df-convert:hover {\n",
              "      background-color: #434B5C;\n",
              "      box-shadow: 0px 1px 3px 1px rgba(0, 0, 0, 0.15);\n",
              "      filter: drop-shadow(0px 1px 2px rgba(0, 0, 0, 0.3));\n",
              "      fill: #FFFFFF;\n",
              "    }\n",
              "  </style>\n",
              "\n",
              "    <script>\n",
              "      const buttonEl =\n",
              "        document.querySelector('#df-a6d03619-5088-4fd9-8a3a-0adecb4a3cd2 button.colab-df-convert');\n",
              "      buttonEl.style.display =\n",
              "        google.colab.kernel.accessAllowed ? 'block' : 'none';\n",
              "\n",
              "      async function convertToInteractive(key) {\n",
              "        const element = document.querySelector('#df-a6d03619-5088-4fd9-8a3a-0adecb4a3cd2');\n",
              "        const dataTable =\n",
              "          await google.colab.kernel.invokeFunction('convertToInteractive',\n",
              "                                                    [key], {});\n",
              "        if (!dataTable) return;\n",
              "\n",
              "        const docLinkHtml = 'Like what you see? Visit the ' +\n",
              "          '<a target=\"_blank\" href=https://colab.research.google.com/notebooks/data_table.ipynb>data table notebook</a>'\n",
              "          + ' to learn more about interactive tables.';\n",
              "        element.innerHTML = '';\n",
              "        dataTable['output_type'] = 'display_data';\n",
              "        await google.colab.output.renderOutput(dataTable, element);\n",
              "        const docLink = document.createElement('div');\n",
              "        docLink.innerHTML = docLinkHtml;\n",
              "        element.appendChild(docLink);\n",
              "      }\n",
              "    </script>\n",
              "  </div>\n",
              "\n",
              "\n",
              "<div id=\"df-61051fd4-d337-4a02-b942-4ed84d6ea18c\">\n",
              "  <button class=\"colab-df-quickchart\" onclick=\"quickchart('df-61051fd4-d337-4a02-b942-4ed84d6ea18c')\"\n",
              "            title=\"Suggest charts\"\n",
              "            style=\"display:none;\">\n",
              "\n",
              "<svg xmlns=\"http://www.w3.org/2000/svg\" height=\"24px\"viewBox=\"0 0 24 24\"\n",
              "     width=\"24px\">\n",
              "    <g>\n",
              "        <path d=\"M19 3H5c-1.1 0-2 .9-2 2v14c0 1.1.9 2 2 2h14c1.1 0 2-.9 2-2V5c0-1.1-.9-2-2-2zM9 17H7v-7h2v7zm4 0h-2V7h2v10zm4 0h-2v-4h2v4z\"/>\n",
              "    </g>\n",
              "</svg>\n",
              "  </button>\n",
              "\n",
              "<style>\n",
              "  .colab-df-quickchart {\n",
              "      --bg-color: #E8F0FE;\n",
              "      --fill-color: #1967D2;\n",
              "      --hover-bg-color: #E2EBFA;\n",
              "      --hover-fill-color: #174EA6;\n",
              "      --disabled-fill-color: #AAA;\n",
              "      --disabled-bg-color: #DDD;\n",
              "  }\n",
              "\n",
              "  [theme=dark] .colab-df-quickchart {\n",
              "      --bg-color: #3B4455;\n",
              "      --fill-color: #D2E3FC;\n",
              "      --hover-bg-color: #434B5C;\n",
              "      --hover-fill-color: #FFFFFF;\n",
              "      --disabled-bg-color: #3B4455;\n",
              "      --disabled-fill-color: #666;\n",
              "  }\n",
              "\n",
              "  .colab-df-quickchart {\n",
              "    background-color: var(--bg-color);\n",
              "    border: none;\n",
              "    border-radius: 50%;\n",
              "    cursor: pointer;\n",
              "    display: none;\n",
              "    fill: var(--fill-color);\n",
              "    height: 32px;\n",
              "    padding: 0;\n",
              "    width: 32px;\n",
              "  }\n",
              "\n",
              "  .colab-df-quickchart:hover {\n",
              "    background-color: var(--hover-bg-color);\n",
              "    box-shadow: 0 1px 2px rgba(60, 64, 67, 0.3), 0 1px 3px 1px rgba(60, 64, 67, 0.15);\n",
              "    fill: var(--button-hover-fill-color);\n",
              "  }\n",
              "\n",
              "  .colab-df-quickchart-complete:disabled,\n",
              "  .colab-df-quickchart-complete:disabled:hover {\n",
              "    background-color: var(--disabled-bg-color);\n",
              "    fill: var(--disabled-fill-color);\n",
              "    box-shadow: none;\n",
              "  }\n",
              "\n",
              "  .colab-df-spinner {\n",
              "    border: 2px solid var(--fill-color);\n",
              "    border-color: transparent;\n",
              "    border-bottom-color: var(--fill-color);\n",
              "    animation:\n",
              "      spin 1s steps(1) infinite;\n",
              "  }\n",
              "\n",
              "  @keyframes spin {\n",
              "    0% {\n",
              "      border-color: transparent;\n",
              "      border-bottom-color: var(--fill-color);\n",
              "      border-left-color: var(--fill-color);\n",
              "    }\n",
              "    20% {\n",
              "      border-color: transparent;\n",
              "      border-left-color: var(--fill-color);\n",
              "      border-top-color: var(--fill-color);\n",
              "    }\n",
              "    30% {\n",
              "      border-color: transparent;\n",
              "      border-left-color: var(--fill-color);\n",
              "      border-top-color: var(--fill-color);\n",
              "      border-right-color: var(--fill-color);\n",
              "    }\n",
              "    40% {\n",
              "      border-color: transparent;\n",
              "      border-right-color: var(--fill-color);\n",
              "      border-top-color: var(--fill-color);\n",
              "    }\n",
              "    60% {\n",
              "      border-color: transparent;\n",
              "      border-right-color: var(--fill-color);\n",
              "    }\n",
              "    80% {\n",
              "      border-color: transparent;\n",
              "      border-right-color: var(--fill-color);\n",
              "      border-bottom-color: var(--fill-color);\n",
              "    }\n",
              "    90% {\n",
              "      border-color: transparent;\n",
              "      border-bottom-color: var(--fill-color);\n",
              "    }\n",
              "  }\n",
              "</style>\n",
              "\n",
              "  <script>\n",
              "    async function quickchart(key) {\n",
              "      const quickchartButtonEl =\n",
              "        document.querySelector('#' + key + ' button');\n",
              "      quickchartButtonEl.disabled = true;  // To prevent multiple clicks.\n",
              "      quickchartButtonEl.classList.add('colab-df-spinner');\n",
              "      try {\n",
              "        const charts = await google.colab.kernel.invokeFunction(\n",
              "            'suggestCharts', [key], {});\n",
              "      } catch (error) {\n",
              "        console.error('Error during call to suggestCharts:', error);\n",
              "      }\n",
              "      quickchartButtonEl.classList.remove('colab-df-spinner');\n",
              "      quickchartButtonEl.classList.add('colab-df-quickchart-complete');\n",
              "    }\n",
              "    (() => {\n",
              "      let quickchartButtonEl =\n",
              "        document.querySelector('#df-61051fd4-d337-4a02-b942-4ed84d6ea18c button');\n",
              "      quickchartButtonEl.style.display =\n",
              "        google.colab.kernel.accessAllowed ? 'block' : 'none';\n",
              "    })();\n",
              "  </script>\n",
              "</div>\n",
              "\n",
              "    </div>\n",
              "  </div>\n"
            ],
            "application/vnd.google.colaboratory.intrinsic+json": {
              "type": "dataframe",
              "variable_name": "products_df",
              "summary": "{\n  \"name\": \"products_df\",\n  \"rows\": 30,\n  \"fields\": [\n    {\n      \"column\": \"id\",\n      \"properties\": {\n        \"dtype\": \"number\",\n        \"std\": 8,\n        \"min\": 1,\n        \"max\": 30,\n        \"num_unique_values\": 30,\n        \"samples\": [\n          28,\n          16,\n          24\n        ],\n        \"semantic_type\": \"\",\n        \"description\": \"\"\n      }\n    },\n    {\n      \"column\": \"title\",\n      \"properties\": {\n        \"dtype\": \"string\",\n        \"num_unique_values\": 30,\n        \"samples\": [\n          \"3D Embellishment Art Lamp\",\n          \"Hyaluronic Acid Serum\",\n          \"cereals muesli fruit nuts\"\n        ],\n        \"semantic_type\": \"\",\n        \"description\": \"\"\n      }\n    },\n    {\n      \"column\": \"description\",\n      \"properties\": {\n        \"dtype\": \"string\",\n        \"num_unique_values\": 30,\n        \"samples\": [\n          \"3D led lamp sticker Wall sticker 3d wall art light on/off button  cell operated (included)\",\n          \"L'Or\\u00c3\\u00a9al Paris introduces Hyaluron Expert Replumping Serum formulated with 1.5% Hyaluronic Acid\",\n          \"original fauji cereal muesli 250gm box pack original fauji cereals muesli fruit nuts flakes breakfast cereal break fast faujicereals cerels cerel foji fouji\"\n        ],\n        \"semantic_type\": \"\",\n        \"description\": \"\"\n      }\n    },\n    {\n      \"column\": \"price\",\n      \"properties\": {\n        \"dtype\": \"number\",\n        \"std\": 551,\n        \"min\": 12,\n        \"max\": 1749,\n        \"num_unique_values\": 21,\n        \"samples\": [\n          549,\n          14,\n          70\n        ],\n        \"semantic_type\": \"\",\n        \"description\": \"\"\n      }\n    },\n    {\n      \"column\": \"discountPercentage\",\n      \"properties\": {\n        \"dtype\": \"number\",\n        \"std\": 4.543258438761691,\n        \"min\": 2.92,\n        \"max\": 17.94,\n        \"num_unique_values\": 29,\n        \"samples\": [\n          15.34,\n          4.09,\n          8.14\n        ],\n        \"semantic_type\": \"\",\n        \"description\": \"\"\n      }\n    },\n    {\n      \"column\": \"rating\",\n      \"properties\": {\n        \"dtype\": \"number\",\n        \"std\": 0.27293972219891893,\n        \"min\": 4.0,\n        \"max\": 4.94,\n        \"num_unique_values\": 25,\n        \"samples\": [\n          4.26,\n          4.42,\n          4.69\n        ],\n        \"semantic_type\": \"\",\n        \"description\": \"\"\n      }\n    },\n    {\n      \"column\": \"stock\",\n      \"properties\": {\n        \"dtype\": \"number\",\n        \"std\": 38,\n        \"min\": 7,\n        \"max\": 146,\n        \"num_unique_values\": 28,\n        \"samples\": [\n          89,\n          131,\n          96\n        ],\n        \"semantic_type\": \"\",\n        \"description\": \"\"\n      }\n    },\n    {\n      \"column\": \"brand\",\n      \"properties\": {\n        \"dtype\": \"string\",\n        \"num_unique_values\": 27,\n        \"samples\": [\n          \"Royal_Mirage\",\n          \"Hemani Tea\",\n          \"Fog Scent Xpressio\"\n        ],\n        \"semantic_type\": \"\",\n        \"description\": \"\"\n      }\n    },\n    {\n      \"column\": \"category\",\n      \"properties\": {\n        \"dtype\": \"category\",\n        \"num_unique_values\": 6,\n        \"samples\": [\n          \"smartphones\",\n          \"laptops\",\n          \"home-decoration\"\n        ],\n        \"semantic_type\": \"\",\n        \"description\": \"\"\n      }\n    },\n    {\n      \"column\": \"thumbnail\",\n      \"properties\": {\n        \"dtype\": \"string\",\n        \"num_unique_values\": 30,\n        \"samples\": [\n          \"https://i.dummyjson.com/data/products/28/thumbnail.jpg\",\n          \"https://i.dummyjson.com/data/products/16/thumbnail.jpg\",\n          \"https://i.dummyjson.com/data/products/24/thumbnail.jpg\"\n        ],\n        \"semantic_type\": \"\",\n        \"description\": \"\"\n      }\n    },\n    {\n      \"column\": \"images\",\n      \"properties\": {\n        \"dtype\": \"object\",\n        \"semantic_type\": \"\",\n        \"description\": \"\"\n      }\n    }\n  ]\n}"
            }
          },
          "metadata": {},
          "execution_count": 16
        }
      ],
      "source": [
        "import json\n",
        "import pandas as pd\n",
        "\n",
        "# Update the file path to your products.json file:\n",
        "file_path = 'drive/MyDrive/products.json'\n",
        "\n",
        "# Load the JSON file\n",
        "with open(file_path, 'r') as file:\n",
        "    products_data = json.load(file)\n",
        "\n",
        "# Convert the products list to a DataFrame for easy manipulation\n",
        "products_df = pd.DataFrame(products_data['products'])\n",
        "print(\"Loaded products:\", products_df.shape[0])\n",
        "products_df.head()"
      ]
    },
    {
      "cell_type": "code",
      "source": [
        "from google.colab import drive\n",
        "drive.mount('/content/drive')"
      ],
      "metadata": {
        "colab": {
          "base_uri": "https://localhost:8080/"
        },
        "id": "XOJSaPIF1WNR",
        "outputId": "0969e12b-cc74-41af-b0b5-afc0b13f401a"
      },
      "execution_count": 13,
      "outputs": [
        {
          "output_type": "stream",
          "name": "stdout",
          "text": [
            "Drive already mounted at /content/drive; to attempt to forcibly remount, call drive.mount(\"/content/drive\", force_remount=True).\n"
          ]
        }
      ]
    },
    {
      "cell_type": "markdown",
      "source": [
        "### Packages"
      ],
      "metadata": {
        "id": "i8siIxiEIu-2"
      }
    },
    {
      "cell_type": "code",
      "source": [
        "%%capture\n",
        "!pip install qdrant-client[fastembed] google-genai pandas tqdm\n"
      ],
      "metadata": {
        "id": "UJy2rKEyIuoK"
      },
      "execution_count": null,
      "outputs": []
    },
    {
      "cell_type": "code",
      "source": [
        "import pandas as pd\n",
        "import json\n",
        "import os\n",
        "import time\n",
        "from tqdm import tqdm\n",
        "from google import genai\n",
        "from google.genai import types\n",
        "from qdrant_client import QdrantClient\n",
        "from qdrant_client.models import Distance, VectorParams\n",
        "import uuid\n",
        "\n",
        "from google.colab import userdata\n",
        "\n",
        "QDRANT_URL = \"https://09b01a49-2166-4305-a92c-9a1066c978bf.eu-west-2-0.aws.cloud.qdrant.io\"\n",
        "QDRANT_KEY = userdata.get('PERSONAL_QDRANT_KEY')\n",
        "\n",
        "qdrant_client = QdrantClient(url=QDRANT_URL, api_key=QDRANT_KEY, port=None)"
      ],
      "metadata": {
        "id": "u6landw4G5CS"
      },
      "execution_count": 44,
      "outputs": []
    },
    {
      "cell_type": "code",
      "source": [
        "# We choose a collection name for products\n",
        "collection_name = \"products\"\n",
        "\n",
        "# Create document strings, metadata, and IDs for each product.\n",
        "documents = []\n",
        "metadatas = []\n",
        "ids = []\n",
        "\n",
        "for index, row in products_df.iterrows():\n",
        "    title = row['title']\n",
        "    description = row['description']\n",
        "    category = row.get('category')\n",
        "    brand = row.get('brand')\n",
        "\n",
        "    # Build a document string.\n",
        "    doc = f\"Title: {title}\\nDescription: {description}\\nCategory: {category}\\nBrand: {brand}\"\n",
        "    documents.append(doc)\n",
        "\n",
        "    # Save entire product info as metadata.\n",
        "    metadatas.append(row.to_dict())\n",
        "\n",
        "    # Use the product ID as the document id (convert to string).\n",
        "    ids.append(int(row['id']))\n",
        "\n",
        "print(f\"Prepared {len(documents)} documents.\")"
      ],
      "metadata": {
        "id": "sSf4IFJmFUj2",
        "outputId": "af0a7492-4a98-45ac-dc1b-9cb4741f6066",
        "colab": {
          "base_uri": "https://localhost:8080/"
        }
      },
      "execution_count": 46,
      "outputs": [
        {
          "output_type": "stream",
          "name": "stdout",
          "text": [
            "Prepared 30 documents.\n"
          ]
        }
      ]
    },
    {
      "cell_type": "code",
      "source": [
        "# from qdrant_client.http.models import CollectionInfo, Distance, VectorParams\n",
        "\n",
        "# Check if the collection already exists; if not, create it.\n",
        "try:\n",
        "    qdrant_collection = qdrant_client.get_collection(collection_name=collection_name)\n",
        "    print(\"Collection already exists!\")\n",
        "except Exception as e:\n",
        "    print(\"Creating collection...\")\n",
        "    # Here, we choose 384 as the embedding dimension. Adjust it if your embedding model returns vectors with a different size.\n",
        "    qdrant_client.create_collection(\n",
        "        collection_name=collection_name,\n",
        "        vectors_config={\n",
        "          \"fast-bge-small-en\": VectorParams(size=384, distance=Distance.COSINE),\n",
        "        }\n",
        "    )\n",
        "    print(\"Collection created!\")\n"
      ],
      "metadata": {
        "id": "fo2YeAulIJTJ",
        "outputId": "9fccd9ae-465a-42e6-bfe9-bec2abcc8c45",
        "colab": {
          "base_uri": "https://localhost:8080/"
        }
      },
      "execution_count": 47,
      "outputs": [
        {
          "output_type": "stream",
          "name": "stdout",
          "text": [
            "Creating collection...\n",
            "Collection created!\n"
          ]
        }
      ]
    },
    {
      "cell_type": "code",
      "source": [
        "# Add documents into Qdrant.\n",
        "# Note: This operation might take a few moments, depending on the number of products.\n",
        "qdrant_client.add(\n",
        "    collection_name=collection_name,\n",
        "    documents=documents,\n",
        "    metadata=metadatas,\n",
        "    ids=ids\n",
        ")\n",
        "\n",
        "print(\"Documents added to Qdrant.\")"
      ],
      "metadata": {
        "id": "mVw8-TTBLYh3",
        "outputId": "6a5f73f1-9113-4328-fe4c-cf07a5d1f992",
        "colab": {
          "base_uri": "https://localhost:8080/"
        }
      },
      "execution_count": 48,
      "outputs": [
        {
          "output_type": "stream",
          "name": "stdout",
          "text": [
            "Documents added to Qdrant.\n"
          ]
        }
      ]
    },
    {
      "cell_type": "code",
      "source": [
        "# Test search query\n",
        "test_query = \"smartphone with good battery life\"\n",
        "search_results = qdrant_client.query(collection_name=collection_name, query_text=test_query)\n",
        "\n",
        "print(\"Search Results:\")\n",
        "for result in search_results:\n",
        "    print(\"Document:\", result.document)\n",
        "    print(\"Metadata:\", result.metadata)\n",
        "    print(\"-----------------------------------\")"
      ],
      "metadata": {
        "id": "cukQnItIOznr"
      },
      "execution_count": null,
      "outputs": []
    },
    {
      "cell_type": "markdown",
      "source": [
        "### Imports"
      ],
      "metadata": {
        "id": "rRd-Y1Z4HFWu"
      }
    },
    {
      "cell_type": "markdown",
      "source": [
        "### Helpers"
      ],
      "metadata": {
        "id": "6ASIJ0OTXUQ9"
      }
    },
    {
      "cell_type": "code",
      "source": [
        "collection_name = \"product_reviews\""
      ],
      "metadata": {
        "id": "M1-pzDF5ZMnw"
      },
      "execution_count": null,
      "outputs": []
    },
    {
      "cell_type": "code",
      "source": [
        "GEMINI_KEY = userdata.get('GEMINI_API_KEY')\n",
        "gemini_client = genai.Client(\n",
        "    api_key=GEMINI_KEY\n",
        ")"
      ],
      "metadata": {
        "id": "gA4qxypZXVSU"
      },
      "execution_count": null,
      "outputs": []
    },
    {
      "cell_type": "code",
      "source": [
        "def getGeminiResponse(prompt, max_tokens=8192, response_type=\"text/plain\"):\n",
        "    contents = [\n",
        "        types.Content(\n",
        "            role=\"user\",\n",
        "            parts=[\n",
        "                types.Part.from_text(\n",
        "                    text=prompt\n",
        "                ),\n",
        "            ],\n",
        "        ),\n",
        "    ]\n",
        "    generate_content_config = types.GenerateContentConfig(\n",
        "        temperature=0,\n",
        "        top_p=0.95,\n",
        "        top_k=40,\n",
        "        max_output_tokens=max_tokens,\n",
        "        response_mime_type=response_type,\n",
        "    )\n",
        "    response = gemini_client.models.generate_content(\n",
        "        model=\"gemini-2.0-flash\", contents=contents, config=generate_content_config\n",
        "    )\n",
        "    return response.text"
      ],
      "metadata": {
        "id": "-j7toHuxYuux"
      },
      "execution_count": null,
      "outputs": []
    },
    {
      "cell_type": "code",
      "source": [
        "getGeminiResponse(\"What is 2+3?\")"
      ],
      "metadata": {
        "colab": {
          "base_uri": "https://localhost:8080/",
          "height": 141
        },
        "id": "Nm6lU5u6Y8WX",
        "outputId": "bedd78ca-8114-4196-c715-b57876de7bed"
      },
      "execution_count": 5,
      "outputs": [
        {
          "output_type": "error",
          "ename": "NameError",
          "evalue": "name 'getGeminiResponse' is not defined",
          "traceback": [
            "\u001b[0;31m---------------------------------------------------------------------------\u001b[0m",
            "\u001b[0;31mNameError\u001b[0m                                 Traceback (most recent call last)",
            "\u001b[0;32m<ipython-input-5-3a31a1c9ee71>\u001b[0m in \u001b[0;36m<cell line: 0>\u001b[0;34m()\u001b[0m\n\u001b[0;32m----> 1\u001b[0;31m \u001b[0mgetGeminiResponse\u001b[0m\u001b[0;34m(\u001b[0m\u001b[0;34m\"What is 2+3?\"\u001b[0m\u001b[0;34m)\u001b[0m\u001b[0;34m\u001b[0m\u001b[0;34m\u001b[0m\u001b[0m\n\u001b[0m",
            "\u001b[0;31mNameError\u001b[0m: name 'getGeminiResponse' is not defined"
          ]
        }
      ]
    },
    {
      "cell_type": "markdown",
      "source": [
        "### EDA"
      ],
      "metadata": {
        "id": "eRd7drJqHqGh"
      }
    },
    {
      "cell_type": "code",
      "source": [
        "df = pd.read_json('reviews.json')"
      ],
      "metadata": {
        "id": "8uMt4eB_HfuA"
      },
      "execution_count": null,
      "outputs": []
    },
    {
      "cell_type": "code",
      "source": [
        "df.head()"
      ],
      "metadata": {
        "id": "tBRn0-xmHjHQ"
      },
      "execution_count": null,
      "outputs": []
    },
    {
      "cell_type": "markdown",
      "source": [
        "### Connect Qdrant"
      ],
      "metadata": {
        "id": "-RdkaI2JILgj"
      }
    },
    {
      "cell_type": "code",
      "source": [
        "QDRANT_URL = \"https://qdrant-1.sg-1.cloudtop.dev\"\n",
        "QDRANT_KEY = userdata.get('PERSONAL_QDRANT_KEY')"
      ],
      "metadata": {
        "id": "_TUJ-RE4H8x2"
      },
      "execution_count": null,
      "outputs": []
    },
    {
      "cell_type": "code",
      "source": [
        "qdrant_client = QdrantClient(url=QDRANT_URL, api_key=QDRANT_KEY, port=None)"
      ],
      "metadata": {
        "id": "bCEct2ZjIk_H",
        "colab": {
          "base_uri": "https://localhost:8080/",
          "height": 141
        },
        "outputId": "286fb07d-933e-44e8-bd0c-60bee9fa0bb0"
      },
      "execution_count": 6,
      "outputs": [
        {
          "output_type": "error",
          "ename": "NameError",
          "evalue": "name 'QdrantClient' is not defined",
          "traceback": [
            "\u001b[0;31m---------------------------------------------------------------------------\u001b[0m",
            "\u001b[0;31mNameError\u001b[0m                                 Traceback (most recent call last)",
            "\u001b[0;32m<ipython-input-6-feb888c9de5b>\u001b[0m in \u001b[0;36m<cell line: 0>\u001b[0;34m()\u001b[0m\n\u001b[0;32m----> 1\u001b[0;31m \u001b[0mqdrant_client\u001b[0m \u001b[0;34m=\u001b[0m \u001b[0mQdrantClient\u001b[0m\u001b[0;34m(\u001b[0m\u001b[0murl\u001b[0m\u001b[0;34m=\u001b[0m\u001b[0mQDRANT_URL\u001b[0m\u001b[0;34m,\u001b[0m \u001b[0mapi_key\u001b[0m\u001b[0;34m=\u001b[0m\u001b[0mQDRANT_KEY\u001b[0m\u001b[0;34m,\u001b[0m \u001b[0mport\u001b[0m\u001b[0;34m=\u001b[0m\u001b[0;32mNone\u001b[0m\u001b[0;34m)\u001b[0m\u001b[0;34m\u001b[0m\u001b[0;34m\u001b[0m\u001b[0m\n\u001b[0m",
            "\u001b[0;31mNameError\u001b[0m: name 'QdrantClient' is not defined"
          ]
        }
      ]
    },
    {
      "cell_type": "markdown",
      "source": [
        "### Create Documents"
      ],
      "metadata": {
        "id": "rv7GrVdQKppy"
      }
    },
    {
      "cell_type": "code",
      "source": [
        "documents = []\n",
        "metadatas = []\n",
        "ids = []"
      ],
      "metadata": {
        "id": "mFCnEkWQK2_p"
      },
      "execution_count": null,
      "outputs": []
    },
    {
      "cell_type": "code",
      "source": [
        "for index, row in df.iterrows():\n",
        "    product_title = row['product_title']\n",
        "    product_description = row['product_description']\n",
        "    review = row['review']\n",
        "\n",
        "    # Combine product information and review into a single document\n",
        "    document = f\"Title: {product_title}\\nDescription: {product_description}\\nReview: {review}\"\n",
        "\n",
        "    # Create metadata dictionary\n",
        "    metadata = {\n",
        "        \"product_title\": product_title,\n",
        "        \"product_description\": product_description,\n",
        "        \"review\": review,\n",
        "        \"index\": index, # add index for reference\n",
        "    }\n",
        "\n",
        "    # Generate a unique ID\n",
        "    doc_id = str(uuid.uuid4())\n",
        "\n",
        "    documents.append(document)\n",
        "    metadatas.append(metadata)\n",
        "    ids.append(doc_id)"
      ],
      "metadata": {
        "id": "IiZ2QgD1Kr5R",
        "colab": {
          "base_uri": "https://localhost:8080/",
          "height": 211
        },
        "outputId": "655cde74-75c4-40a8-ecb4-9ee1282243d6"
      },
      "execution_count": 7,
      "outputs": [
        {
          "output_type": "error",
          "ename": "NameError",
          "evalue": "name 'df' is not defined",
          "traceback": [
            "\u001b[0;31m---------------------------------------------------------------------------\u001b[0m",
            "\u001b[0;31mNameError\u001b[0m                                 Traceback (most recent call last)",
            "\u001b[0;32m<ipython-input-7-a169b58681f8>\u001b[0m in \u001b[0;36m<cell line: 0>\u001b[0;34m()\u001b[0m\n\u001b[0;32m----> 1\u001b[0;31m \u001b[0;32mfor\u001b[0m \u001b[0mindex\u001b[0m\u001b[0;34m,\u001b[0m \u001b[0mrow\u001b[0m \u001b[0;32min\u001b[0m \u001b[0mdf\u001b[0m\u001b[0;34m.\u001b[0m\u001b[0miterrows\u001b[0m\u001b[0;34m(\u001b[0m\u001b[0;34m)\u001b[0m\u001b[0;34m:\u001b[0m\u001b[0;34m\u001b[0m\u001b[0;34m\u001b[0m\u001b[0m\n\u001b[0m\u001b[1;32m      2\u001b[0m     \u001b[0mproduct_title\u001b[0m \u001b[0;34m=\u001b[0m \u001b[0mrow\u001b[0m\u001b[0;34m[\u001b[0m\u001b[0;34m'product_title'\u001b[0m\u001b[0;34m]\u001b[0m\u001b[0;34m\u001b[0m\u001b[0;34m\u001b[0m\u001b[0m\n\u001b[1;32m      3\u001b[0m     \u001b[0mproduct_description\u001b[0m \u001b[0;34m=\u001b[0m \u001b[0mrow\u001b[0m\u001b[0;34m[\u001b[0m\u001b[0;34m'product_description'\u001b[0m\u001b[0;34m]\u001b[0m\u001b[0;34m\u001b[0m\u001b[0;34m\u001b[0m\u001b[0m\n\u001b[1;32m      4\u001b[0m     \u001b[0mreview\u001b[0m \u001b[0;34m=\u001b[0m \u001b[0mrow\u001b[0m\u001b[0;34m[\u001b[0m\u001b[0;34m'review'\u001b[0m\u001b[0;34m]\u001b[0m\u001b[0;34m\u001b[0m\u001b[0;34m\u001b[0m\u001b[0m\n\u001b[1;32m      5\u001b[0m \u001b[0;34m\u001b[0m\u001b[0m\n",
            "\u001b[0;31mNameError\u001b[0m: name 'df' is not defined"
          ]
        }
      ]
    },
    {
      "cell_type": "code",
      "source": [
        "len(documents)"
      ],
      "metadata": {
        "id": "pm_c7JE9JXPX"
      },
      "execution_count": null,
      "outputs": []
    },
    {
      "cell_type": "markdown",
      "source": [
        "### Load data into qdrant"
      ],
      "metadata": {
        "id": "6bUkqwAvLhdn"
      }
    },
    {
      "cell_type": "code",
      "source": [
        "%%capture\n",
        "\n",
        "qdrant_client.add(\n",
        "    collection_name=collection_name,\n",
        "    documents=documents,\n",
        "    metadata=metadatas,\n",
        "    ids=ids\n",
        ")"
      ],
      "metadata": {
        "id": "3aoVN2QzJhPy"
      },
      "execution_count": null,
      "outputs": []
    },
    {
      "cell_type": "markdown",
      "source": [
        "### Test Retrieval"
      ],
      "metadata": {
        "id": "Xs1Uuv7jMf6x"
      }
    },
    {
      "cell_type": "code",
      "source": [
        "user_query = \"What are the key features of the heavy-duty workbench?\""
      ],
      "metadata": {
        "id": "sAd7QyDRZVAN"
      },
      "execution_count": null,
      "outputs": []
    },
    {
      "cell_type": "code",
      "source": [
        "search_result = qdrant_client.query(collection_name=collection_name, query_text=user_query)"
      ],
      "metadata": {
        "id": "EBRZoucvLmsZ"
      },
      "execution_count": null,
      "outputs": []
    },
    {
      "cell_type": "code",
      "source": [
        "for result in search_result:\n",
        "    print(result.document)\n",
        "    print(\"---\")"
      ],
      "metadata": {
        "id": "ohK91zMsMsdc"
      },
      "execution_count": null,
      "outputs": []
    },
    {
      "cell_type": "code",
      "source": [
        "def getRagResponse(question):\n",
        "    search_result = qdrant_client.query(collection_name=collection_name, query_text=question)\n",
        "    system_prompt = \"\"\"\n",
        "      You are an intelligent assistant designed to provide accurate and informative answers based on retrieved documents.\n",
        "\n",
        "      Your primary task is to:\n",
        "\n",
        "      Understand the user's query.\n",
        "      Retrieve relevant information from the provided context (documents).\n",
        "      Synthesize the retrieved information into a coherent and accurate response.\n",
        "\n",
        "      documents:\n",
        "\n",
        "      \"\"\"\n",
        "\n",
        "    documents_text = \"\"\n",
        "\n",
        "    doc_count = 1\n",
        "    for result in search_result:\n",
        "      documents_text += str(doc_count) + \": \\n\" + result.document + \"\\n\\n\"\n",
        "      doc_count += 1\n",
        "\n",
        "    users_query = \"\\n\\n The user is asking: \" + question\n",
        "\n",
        "    prompt = system_prompt + documents_text + users_query\n",
        "\n",
        "    response = getGeminiResponse(prompt)\n",
        "\n",
        "    return response"
      ],
      "metadata": {
        "id": "4PodJoeqWngx"
      },
      "execution_count": null,
      "outputs": []
    },
    {
      "cell_type": "markdown",
      "source": [
        "### Test RAG"
      ],
      "metadata": {
        "id": "sPWzBkd5a2sk"
      }
    },
    {
      "cell_type": "code",
      "source": [
        "getRagResponse(user_query)"
      ],
      "metadata": {
        "id": "aeMopUXHaZvJ"
      },
      "execution_count": null,
      "outputs": []
    },
    {
      "cell_type": "code",
      "source": [],
      "metadata": {
        "id": "HMJx7430a96Z"
      },
      "execution_count": null,
      "outputs": []
    }
  ]
}